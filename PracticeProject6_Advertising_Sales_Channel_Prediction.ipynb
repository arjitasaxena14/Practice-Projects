{
 "cells": [
  {
   "cell_type": "markdown",
   "id": "4f573a70",
   "metadata": {},
   "source": [
    "# Advertising Sales Channel Prediction"
   ]
  },
  {
   "cell_type": "markdown",
   "id": "609c94ec",
   "metadata": {},
   "source": [
    "### Import Libraries"
   ]
  },
  {
   "cell_type": "code",
   "execution_count": 1,
   "id": "f804ae3e",
   "metadata": {},
   "outputs": [],
   "source": [
    "# Importing required libraries\n",
    "import pandas as pd\n",
    "import numpy as np\n",
    "import matplotlib.pyplot as plt\n",
    "import seaborn as sns\n",
    "\n",
    "import warnings\n",
    "warnings.filterwarnings('ignore')"
   ]
  },
  {
   "cell_type": "markdown",
   "id": "e25200d1",
   "metadata": {},
   "source": [
    "### Import Dataset"
   ]
  },
  {
   "cell_type": "code",
   "execution_count": 2,
   "id": "6f26a25c",
   "metadata": {},
   "outputs": [
    {
     "data": {
      "text/html": [
       "<div>\n",
       "<style scoped>\n",
       "    .dataframe tbody tr th:only-of-type {\n",
       "        vertical-align: middle;\n",
       "    }\n",
       "\n",
       "    .dataframe tbody tr th {\n",
       "        vertical-align: top;\n",
       "    }\n",
       "\n",
       "    .dataframe thead th {\n",
       "        text-align: right;\n",
       "    }\n",
       "</style>\n",
       "<table border=\"1\" class=\"dataframe\">\n",
       "  <thead>\n",
       "    <tr style=\"text-align: right;\">\n",
       "      <th></th>\n",
       "      <th>SNo</th>\n",
       "      <th>TV</th>\n",
       "      <th>Radio</th>\n",
       "      <th>Newspaper</th>\n",
       "      <th>Sales</th>\n",
       "    </tr>\n",
       "  </thead>\n",
       "  <tbody>\n",
       "    <tr>\n",
       "      <th>0</th>\n",
       "      <td>1</td>\n",
       "      <td>230.1</td>\n",
       "      <td>37.8</td>\n",
       "      <td>69.2</td>\n",
       "      <td>22.1</td>\n",
       "    </tr>\n",
       "    <tr>\n",
       "      <th>1</th>\n",
       "      <td>2</td>\n",
       "      <td>44.5</td>\n",
       "      <td>39.3</td>\n",
       "      <td>45.1</td>\n",
       "      <td>10.4</td>\n",
       "    </tr>\n",
       "    <tr>\n",
       "      <th>2</th>\n",
       "      <td>3</td>\n",
       "      <td>17.2</td>\n",
       "      <td>45.9</td>\n",
       "      <td>69.3</td>\n",
       "      <td>9.3</td>\n",
       "    </tr>\n",
       "    <tr>\n",
       "      <th>3</th>\n",
       "      <td>4</td>\n",
       "      <td>151.5</td>\n",
       "      <td>41.3</td>\n",
       "      <td>58.5</td>\n",
       "      <td>18.5</td>\n",
       "    </tr>\n",
       "    <tr>\n",
       "      <th>4</th>\n",
       "      <td>5</td>\n",
       "      <td>180.8</td>\n",
       "      <td>10.8</td>\n",
       "      <td>58.4</td>\n",
       "      <td>12.9</td>\n",
       "    </tr>\n",
       "    <tr>\n",
       "      <th>...</th>\n",
       "      <td>...</td>\n",
       "      <td>...</td>\n",
       "      <td>...</td>\n",
       "      <td>...</td>\n",
       "      <td>...</td>\n",
       "    </tr>\n",
       "    <tr>\n",
       "      <th>195</th>\n",
       "      <td>196</td>\n",
       "      <td>38.2</td>\n",
       "      <td>3.7</td>\n",
       "      <td>13.8</td>\n",
       "      <td>7.6</td>\n",
       "    </tr>\n",
       "    <tr>\n",
       "      <th>196</th>\n",
       "      <td>197</td>\n",
       "      <td>94.2</td>\n",
       "      <td>4.9</td>\n",
       "      <td>8.1</td>\n",
       "      <td>9.7</td>\n",
       "    </tr>\n",
       "    <tr>\n",
       "      <th>197</th>\n",
       "      <td>198</td>\n",
       "      <td>177.0</td>\n",
       "      <td>9.3</td>\n",
       "      <td>6.4</td>\n",
       "      <td>12.8</td>\n",
       "    </tr>\n",
       "    <tr>\n",
       "      <th>198</th>\n",
       "      <td>199</td>\n",
       "      <td>283.6</td>\n",
       "      <td>42.0</td>\n",
       "      <td>66.2</td>\n",
       "      <td>25.5</td>\n",
       "    </tr>\n",
       "    <tr>\n",
       "      <th>199</th>\n",
       "      <td>200</td>\n",
       "      <td>232.1</td>\n",
       "      <td>8.6</td>\n",
       "      <td>8.7</td>\n",
       "      <td>13.4</td>\n",
       "    </tr>\n",
       "  </tbody>\n",
       "</table>\n",
       "<p>200 rows × 5 columns</p>\n",
       "</div>"
      ],
      "text/plain": [
       "     SNo     TV  Radio  Newspaper  Sales\n",
       "0      1  230.1   37.8       69.2   22.1\n",
       "1      2   44.5   39.3       45.1   10.4\n",
       "2      3   17.2   45.9       69.3    9.3\n",
       "3      4  151.5   41.3       58.5   18.5\n",
       "4      5  180.8   10.8       58.4   12.9\n",
       "..   ...    ...    ...        ...    ...\n",
       "195  196   38.2    3.7       13.8    7.6\n",
       "196  197   94.2    4.9        8.1    9.7\n",
       "197  198  177.0    9.3        6.4   12.8\n",
       "198  199  283.6   42.0       66.2   25.5\n",
       "199  200  232.1    8.6        8.7   13.4\n",
       "\n",
       "[200 rows x 5 columns]"
      ]
     },
     "execution_count": 2,
     "metadata": {},
     "output_type": "execute_result"
    }
   ],
   "source": [
    "df=pd.read_csv('../Datasets/Advertising.csv',header=0,names=['SNo','TV','Radio','Newspaper','Sales'])\n",
    "df"
   ]
  },
  {
   "cell_type": "markdown",
   "id": "a589aa77",
   "metadata": {},
   "source": [
    "### Project Description "
   ]
  },
  {
   "cell_type": "markdown",
   "id": "f2b8f6c4",
   "metadata": {},
   "source": [
    "The case study of Sales channel includes the detailed study of TV, radio and newspaper channel. Need to predict the total sales generated from all the sales channel. Therefore, Sales is our target column and others are independent column. \n",
    "\n",
    "Since all the values are continuous, this is a regression problem."
   ]
  },
  {
   "cell_type": "code",
   "execution_count": 3,
   "id": "a63fe315",
   "metadata": {},
   "outputs": [
    {
     "data": {
      "text/plain": [
       "(200, 5)"
      ]
     },
     "execution_count": 3,
     "metadata": {},
     "output_type": "execute_result"
    }
   ],
   "source": [
    "df.shape"
   ]
  },
  {
   "cell_type": "markdown",
   "id": "f10eec74",
   "metadata": {},
   "source": [
    "Dataset has 200 rows and 5 columns"
   ]
  },
  {
   "cell_type": "code",
   "execution_count": 4,
   "id": "5323c223",
   "metadata": {},
   "outputs": [
    {
     "data": {
      "text/plain": [
       "Index(['SNo', 'TV', 'Radio', 'Newspaper', 'Sales'], dtype='object')"
      ]
     },
     "execution_count": 4,
     "metadata": {},
     "output_type": "execute_result"
    }
   ],
   "source": [
    "df.columns"
   ]
  },
  {
   "cell_type": "markdown",
   "id": "fa244e10",
   "metadata": {},
   "source": [
    "Column names in dataset"
   ]
  },
  {
   "cell_type": "code",
   "execution_count": 5,
   "id": "80cd8c6f",
   "metadata": {},
   "outputs": [
    {
     "data": {
      "text/plain": [
       "SNo            int64\n",
       "TV           float64\n",
       "Radio        float64\n",
       "Newspaper    float64\n",
       "Sales        float64\n",
       "dtype: object"
      ]
     },
     "execution_count": 5,
     "metadata": {},
     "output_type": "execute_result"
    }
   ],
   "source": [
    "df.dtypes"
   ]
  },
  {
   "cell_type": "markdown",
   "id": "895b6792",
   "metadata": {},
   "source": [
    "All columns are continuous in nature."
   ]
  },
  {
   "cell_type": "code",
   "execution_count": 6,
   "id": "59322e96",
   "metadata": {},
   "outputs": [
    {
     "name": "stdout",
     "output_type": "stream",
     "text": [
      "<class 'pandas.core.frame.DataFrame'>\n",
      "RangeIndex: 200 entries, 0 to 199\n",
      "Data columns (total 5 columns):\n",
      " #   Column     Non-Null Count  Dtype  \n",
      "---  ------     --------------  -----  \n",
      " 0   SNo        200 non-null    int64  \n",
      " 1   TV         200 non-null    float64\n",
      " 2   Radio      200 non-null    float64\n",
      " 3   Newspaper  200 non-null    float64\n",
      " 4   Sales      200 non-null    float64\n",
      "dtypes: float64(4), int64(1)\n",
      "memory usage: 7.9 KB\n"
     ]
    }
   ],
   "source": [
    "df.info()"
   ]
  },
  {
   "cell_type": "markdown",
   "id": "bcd85ca4",
   "metadata": {},
   "source": [
    "Here, we get the information regarding dataset i.e. RangeIndex,Dtype,Non-null count"
   ]
  },
  {
   "cell_type": "markdown",
   "id": "f3c5ffd8",
   "metadata": {},
   "source": [
    "### EDA and Visualisations"
   ]
  },
  {
   "cell_type": "code",
   "execution_count": 7,
   "id": "83dbe11b",
   "metadata": {},
   "outputs": [
    {
     "data": {
      "text/plain": [
       "SNo          0\n",
       "TV           0\n",
       "Radio        0\n",
       "Newspaper    0\n",
       "Sales        0\n",
       "dtype: int64"
      ]
     },
     "execution_count": 7,
     "metadata": {},
     "output_type": "execute_result"
    }
   ],
   "source": [
    "#Checking null values\n",
    "df.isnull().sum()"
   ]
  },
  {
   "cell_type": "markdown",
   "id": "e65bcd6a",
   "metadata": {},
   "source": [
    "There are no null values in the dataset."
   ]
  },
  {
   "cell_type": "code",
   "execution_count": 8,
   "id": "34e6f55f",
   "metadata": {},
   "outputs": [
    {
     "data": {
      "text/plain": [
       "<AxesSubplot:>"
      ]
     },
     "execution_count": 8,
     "metadata": {},
     "output_type": "execute_result"
    },
    {
     "data": {
      "image/png": "[encoded data removed]",
      "text/plain": [
       "<Figure size 432x288 with 2 Axes>"
      ]
     },
     "metadata": {
      "needs_background": "light"
     },
     "output_type": "display_data"
    }
   ],
   "source": [
    "#Heatmap for null values\n",
    "sns.heatmap(df.isnull())"
   ]
  },
  {
   "cell_type": "code",
   "execution_count": 9,
   "id": "e49cccd5",
   "metadata": {},
   "outputs": [
    {
     "data": {
      "text/html": [
       "<div>\n",
       "<style scoped>\n",
       "    .dataframe tbody tr th:only-of-type {\n",
       "        vertical-align: middle;\n",
       "    }\n",
       "\n",
       "    .dataframe tbody tr th {\n",
       "        vertical-align: top;\n",
       "    }\n",
       "\n",
       "    .dataframe thead th {\n",
       "        text-align: right;\n",
       "    }\n",
       "</style>\n",
       "<table border=\"1\" class=\"dataframe\">\n",
       "  <thead>\n",
       "    <tr style=\"text-align: right;\">\n",
       "      <th></th>\n",
       "      <th>SNo</th>\n",
       "      <th>TV</th>\n",
       "      <th>Radio</th>\n",
       "      <th>Newspaper</th>\n",
       "      <th>Sales</th>\n",
       "    </tr>\n",
       "  </thead>\n",
       "  <tbody>\n",
       "    <tr>\n",
       "      <th>count</th>\n",
       "      <td>200.000000</td>\n",
       "      <td>200.000000</td>\n",
       "      <td>200.000000</td>\n",
       "      <td>200.000000</td>\n",
       "      <td>200.000000</td>\n",
       "    </tr>\n",
       "    <tr>\n",
       "      <th>mean</th>\n",
       "      <td>100.500000</td>\n",
       "      <td>147.042500</td>\n",
       "      <td>23.264000</td>\n",
       "      <td>30.554000</td>\n",
       "      <td>14.022500</td>\n",
       "    </tr>\n",
       "    <tr>\n",
       "      <th>std</th>\n",
       "      <td>57.879185</td>\n",
       "      <td>85.854236</td>\n",
       "      <td>14.846809</td>\n",
       "      <td>21.778621</td>\n",
       "      <td>5.217457</td>\n",
       "    </tr>\n",
       "    <tr>\n",
       "      <th>min</th>\n",
       "      <td>1.000000</td>\n",
       "      <td>0.700000</td>\n",
       "      <td>0.000000</td>\n",
       "      <td>0.300000</td>\n",
       "      <td>1.600000</td>\n",
       "    </tr>\n",
       "    <tr>\n",
       "      <th>25%</th>\n",
       "      <td>50.750000</td>\n",
       "      <td>74.375000</td>\n",
       "      <td>9.975000</td>\n",
       "      <td>12.750000</td>\n",
       "      <td>10.375000</td>\n",
       "    </tr>\n",
       "    <tr>\n",
       "      <th>50%</th>\n",
       "      <td>100.500000</td>\n",
       "      <td>149.750000</td>\n",
       "      <td>22.900000</td>\n",
       "      <td>25.750000</td>\n",
       "      <td>12.900000</td>\n",
       "    </tr>\n",
       "    <tr>\n",
       "      <th>75%</th>\n",
       "      <td>150.250000</td>\n",
       "      <td>218.825000</td>\n",
       "      <td>36.525000</td>\n",
       "      <td>45.100000</td>\n",
       "      <td>17.400000</td>\n",
       "    </tr>\n",
       "    <tr>\n",
       "      <th>max</th>\n",
       "      <td>200.000000</td>\n",
       "      <td>296.400000</td>\n",
       "      <td>49.600000</td>\n",
       "      <td>114.000000</td>\n",
       "      <td>27.000000</td>\n",
       "    </tr>\n",
       "  </tbody>\n",
       "</table>\n",
       "</div>"
      ],
      "text/plain": [
       "              SNo          TV       Radio   Newspaper       Sales\n",
       "count  200.000000  200.000000  200.000000  200.000000  200.000000\n",
       "mean   100.500000  147.042500   23.264000   30.554000   14.022500\n",
       "std     57.879185   85.854236   14.846809   21.778621    5.217457\n",
       "min      1.000000    0.700000    0.000000    0.300000    1.600000\n",
       "25%     50.750000   74.375000    9.975000   12.750000   10.375000\n",
       "50%    100.500000  149.750000   22.900000   25.750000   12.900000\n",
       "75%    150.250000  218.825000   36.525000   45.100000   17.400000\n",
       "max    200.000000  296.400000   49.600000  114.000000   27.000000"
      ]
     },
     "execution_count": 9,
     "metadata": {},
     "output_type": "execute_result"
    }
   ],
   "source": [
    "# Describe dataset\n",
    "df.describe()"
   ]
  },
  {
   "cell_type": "markdown",
   "id": "1dee2a1d",
   "metadata": {},
   "source": [
    "All the columns have high standard deviation except target column. Difference in 75% and max is high in Newspaper hence Outliers exists. A little skewness is present in the dataset. TV is left skewed (mean<median). Radio, Newspaper & Sales are right skewed (mean>median)."
   ]
  },
  {
   "cell_type": "code",
   "execution_count": 10,
   "id": "774966cf",
   "metadata": {},
   "outputs": [
    {
     "data": {
      "text/plain": [
       "(array([ 16, 101], dtype=int64), array([3, 3], dtype=int64))"
      ]
     },
     "execution_count": 10,
     "metadata": {},
     "output_type": "execute_result"
    }
   ],
   "source": [
    "#Checking outliers\n",
    "from scipy.stats import zscore\n",
    "\n",
    "z=np.abs(zscore(df))\n",
    "np.where(z>3)"
   ]
  },
  {
   "cell_type": "code",
   "execution_count": 11,
   "id": "e48d4d4a",
   "metadata": {},
   "outputs": [
    {
     "data": {
      "text/plain": [
       "array([1.4462805 , 0.92530498, 0.9004942 , 3.84117072, 0.29254112])"
      ]
     },
     "execution_count": 11,
     "metadata": {},
     "output_type": "execute_result"
    }
   ],
   "source": [
    "#Checking value in z having greater than 3 value\n",
    "z[16]"
   ]
  },
  {
   "cell_type": "code",
   "execution_count": 12,
   "id": "5a81a82a",
   "metadata": {},
   "outputs": [
    {
     "data": {
      "text/plain": [
       "SNo             AxesSubplot(0.125,0.125;0.133621x0.755)\n",
       "TV           AxesSubplot(0.285345,0.125;0.133621x0.755)\n",
       "Radio         AxesSubplot(0.44569,0.125;0.133621x0.755)\n",
       "Newspaper    AxesSubplot(0.606034,0.125;0.133621x0.755)\n",
       "Sales        AxesSubplot(0.766379,0.125;0.133621x0.755)\n",
       "dtype: object"
      ]
     },
     "execution_count": 12,
     "metadata": {},
     "output_type": "execute_result"
    },
    {
     "data": {
      "image/png": "[encoded data removed]",
      "text/plain": [
       "<Figure size 432x288 with 5 Axes>"
      ]
     },
     "metadata": {
      "needs_background": "light"
     },
     "output_type": "display_data"
    }
   ],
   "source": [
    "#Plotting outliers\n",
    "df.plot(kind='box',subplots=True)"
   ]
  },
  {
   "cell_type": "markdown",
   "id": "2b13ab7f",
   "metadata": {},
   "source": [
    "A few outliers are present in the dataset"
   ]
  },
  {
   "cell_type": "code",
   "execution_count": 13,
   "id": "43902e3d",
   "metadata": {},
   "outputs": [
    {
     "data": {
      "text/plain": [
       "SNo          0.000000\n",
       "TV          -0.069853\n",
       "Radio        0.094175\n",
       "Newspaper    0.894720\n",
       "Sales        0.407571\n",
       "dtype: float64"
      ]
     },
     "execution_count": 13,
     "metadata": {},
     "output_type": "execute_result"
    }
   ],
   "source": [
    "#Checking skewness\n",
    "df.skew()"
   ]
  },
  {
   "cell_type": "code",
   "execution_count": 14,
   "id": "64c78104",
   "metadata": {},
   "outputs": [
    {
     "data": {
      "text/plain": [
       "array([<AxesSubplot:ylabel='Density'>, <AxesSubplot:ylabel='Density'>,\n",
       "       <AxesSubplot:ylabel='Density'>, <AxesSubplot:ylabel='Density'>,\n",
       "       <AxesSubplot:ylabel='Density'>], dtype=object)"
      ]
     },
     "execution_count": 14,
     "metadata": {},
     "output_type": "execute_result"
    },
    {
     "data": {
      "image/png": "[encoded data removed]",
      "text/plain": [
       "<Figure size 432x288 with 5 Axes>"
      ]
     },
     "metadata": {
      "needs_background": "light"
     },
     "output_type": "display_data"
    }
   ],
   "source": [
    "df.plot(kind='kde',subplots=True)"
   ]
  },
  {
   "cell_type": "markdown",
   "id": "5ff075f9",
   "metadata": {},
   "source": [
    "Skewness is present in the dataset"
   ]
  },
  {
   "cell_type": "code",
   "execution_count": 15,
   "id": "797681de",
   "metadata": {},
   "outputs": [
    {
     "data": {
      "text/html": [
       "<div>\n",
       "<style scoped>\n",
       "    .dataframe tbody tr th:only-of-type {\n",
       "        vertical-align: middle;\n",
       "    }\n",
       "\n",
       "    .dataframe tbody tr th {\n",
       "        vertical-align: top;\n",
       "    }\n",
       "\n",
       "    .dataframe thead th {\n",
       "        text-align: right;\n",
       "    }\n",
       "</style>\n",
       "<table border=\"1\" class=\"dataframe\">\n",
       "  <thead>\n",
       "    <tr style=\"text-align: right;\">\n",
       "      <th></th>\n",
       "      <th>SNo</th>\n",
       "      <th>TV</th>\n",
       "      <th>Radio</th>\n",
       "      <th>Newspaper</th>\n",
       "      <th>Sales</th>\n",
       "    </tr>\n",
       "  </thead>\n",
       "  <tbody>\n",
       "    <tr>\n",
       "      <th>SNo</th>\n",
       "      <td>1.000000</td>\n",
       "      <td>0.017715</td>\n",
       "      <td>-0.110680</td>\n",
       "      <td>-0.154944</td>\n",
       "      <td>-0.051616</td>\n",
       "    </tr>\n",
       "    <tr>\n",
       "      <th>TV</th>\n",
       "      <td>0.017715</td>\n",
       "      <td>1.000000</td>\n",
       "      <td>0.054809</td>\n",
       "      <td>0.056648</td>\n",
       "      <td>0.782224</td>\n",
       "    </tr>\n",
       "    <tr>\n",
       "      <th>Radio</th>\n",
       "      <td>-0.110680</td>\n",
       "      <td>0.054809</td>\n",
       "      <td>1.000000</td>\n",
       "      <td>0.354104</td>\n",
       "      <td>0.576223</td>\n",
       "    </tr>\n",
       "    <tr>\n",
       "      <th>Newspaper</th>\n",
       "      <td>-0.154944</td>\n",
       "      <td>0.056648</td>\n",
       "      <td>0.354104</td>\n",
       "      <td>1.000000</td>\n",
       "      <td>0.228299</td>\n",
       "    </tr>\n",
       "    <tr>\n",
       "      <th>Sales</th>\n",
       "      <td>-0.051616</td>\n",
       "      <td>0.782224</td>\n",
       "      <td>0.576223</td>\n",
       "      <td>0.228299</td>\n",
       "      <td>1.000000</td>\n",
       "    </tr>\n",
       "  </tbody>\n",
       "</table>\n",
       "</div>"
      ],
      "text/plain": [
       "                SNo        TV     Radio  Newspaper     Sales\n",
       "SNo        1.000000  0.017715 -0.110680  -0.154944 -0.051616\n",
       "TV         0.017715  1.000000  0.054809   0.056648  0.782224\n",
       "Radio     -0.110680  0.054809  1.000000   0.354104  0.576223\n",
       "Newspaper -0.154944  0.056648  0.354104   1.000000  0.228299\n",
       "Sales     -0.051616  0.782224  0.576223   0.228299  1.000000"
      ]
     },
     "execution_count": 15,
     "metadata": {},
     "output_type": "execute_result"
    }
   ],
   "source": [
    "# Checking correlation\n",
    "df.corr()"
   ]
  },
  {
   "cell_type": "code",
   "execution_count": 16,
   "id": "48fa9ff7",
   "metadata": {},
   "outputs": [
    {
     "data": {
      "text/plain": [
       "<AxesSubplot:>"
      ]
     },
     "execution_count": 16,
     "metadata": {},
     "output_type": "execute_result"
    },
    {
     "data": {
      "image/png": "[encoded data removed]",
      "text/plain": [
       "<Figure size 720x432 with 2 Axes>"
      ]
     },
     "metadata": {
      "needs_background": "light"
     },
     "output_type": "display_data"
    }
   ],
   "source": [
    "# Plotting correlation\n",
    "plt.figure(figsize=(10,6))\n",
    "sns.heatmap(df.corr(),annot=True,linewidths=0.5,linecolor='b')"
   ]
  },
  {
   "cell_type": "markdown",
   "id": "eb2edcd9",
   "metadata": {},
   "source": [
    "Tv, Radio are strongly correlated with target column Sales. Newspaper has a good correlation with target. Radio and Newspaper has good correlation. Multicollinearity might exists."
   ]
  },
  {
   "cell_type": "code",
   "execution_count": 83,
   "id": "d879698c",
   "metadata": {},
   "outputs": [
    {
     "data": {
      "text/plain": [
       "<seaborn.axisgrid.PairGrid at 0x2666b00a460>"
      ]
     },
     "execution_count": 83,
     "metadata": {},
     "output_type": "execute_result"
    },
    {
     "data": {
      "image/png": "[encoded data removed]",
      "text/plain": [
       "<Figure size 768.75x720 with 20 Axes>"
      ]
     },
     "metadata": {
      "needs_background": "light"
     },
     "output_type": "display_data"
    }
   ],
   "source": [
    "#Pairplot\n",
    "sns.pairplot(df,hue='Sales')"
   ]
  },
  {
   "cell_type": "markdown",
   "id": "9483888f",
   "metadata": {},
   "source": [
    "We can see there are so much of overlapping of data in the plot."
   ]
  },
  {
   "cell_type": "code",
   "execution_count": 17,
   "id": "5a91c169",
   "metadata": {},
   "outputs": [
    {
     "data": {
      "text/html": [
       "<div>\n",
       "<style scoped>\n",
       "    .dataframe tbody tr th:only-of-type {\n",
       "        vertical-align: middle;\n",
       "    }\n",
       "\n",
       "    .dataframe tbody tr th {\n",
       "        vertical-align: top;\n",
       "    }\n",
       "\n",
       "    .dataframe thead th {\n",
       "        text-align: right;\n",
       "    }\n",
       "</style>\n",
       "<table border=\"1\" class=\"dataframe\">\n",
       "  <thead>\n",
       "    <tr style=\"text-align: right;\">\n",
       "      <th></th>\n",
       "      <th>TV</th>\n",
       "      <th>Radio</th>\n",
       "      <th>Newspaper</th>\n",
       "      <th>Sales</th>\n",
       "    </tr>\n",
       "  </thead>\n",
       "  <tbody>\n",
       "    <tr>\n",
       "      <th>0</th>\n",
       "      <td>230.1</td>\n",
       "      <td>37.8</td>\n",
       "      <td>69.2</td>\n",
       "      <td>22.1</td>\n",
       "    </tr>\n",
       "    <tr>\n",
       "      <th>1</th>\n",
       "      <td>44.5</td>\n",
       "      <td>39.3</td>\n",
       "      <td>45.1</td>\n",
       "      <td>10.4</td>\n",
       "    </tr>\n",
       "    <tr>\n",
       "      <th>2</th>\n",
       "      <td>17.2</td>\n",
       "      <td>45.9</td>\n",
       "      <td>69.3</td>\n",
       "      <td>9.3</td>\n",
       "    </tr>\n",
       "    <tr>\n",
       "      <th>3</th>\n",
       "      <td>151.5</td>\n",
       "      <td>41.3</td>\n",
       "      <td>58.5</td>\n",
       "      <td>18.5</td>\n",
       "    </tr>\n",
       "    <tr>\n",
       "      <th>4</th>\n",
       "      <td>180.8</td>\n",
       "      <td>10.8</td>\n",
       "      <td>58.4</td>\n",
       "      <td>12.9</td>\n",
       "    </tr>\n",
       "    <tr>\n",
       "      <th>...</th>\n",
       "      <td>...</td>\n",
       "      <td>...</td>\n",
       "      <td>...</td>\n",
       "      <td>...</td>\n",
       "    </tr>\n",
       "    <tr>\n",
       "      <th>195</th>\n",
       "      <td>38.2</td>\n",
       "      <td>3.7</td>\n",
       "      <td>13.8</td>\n",
       "      <td>7.6</td>\n",
       "    </tr>\n",
       "    <tr>\n",
       "      <th>196</th>\n",
       "      <td>94.2</td>\n",
       "      <td>4.9</td>\n",
       "      <td>8.1</td>\n",
       "      <td>9.7</td>\n",
       "    </tr>\n",
       "    <tr>\n",
       "      <th>197</th>\n",
       "      <td>177.0</td>\n",
       "      <td>9.3</td>\n",
       "      <td>6.4</td>\n",
       "      <td>12.8</td>\n",
       "    </tr>\n",
       "    <tr>\n",
       "      <th>198</th>\n",
       "      <td>283.6</td>\n",
       "      <td>42.0</td>\n",
       "      <td>66.2</td>\n",
       "      <td>25.5</td>\n",
       "    </tr>\n",
       "    <tr>\n",
       "      <th>199</th>\n",
       "      <td>232.1</td>\n",
       "      <td>8.6</td>\n",
       "      <td>8.7</td>\n",
       "      <td>13.4</td>\n",
       "    </tr>\n",
       "  </tbody>\n",
       "</table>\n",
       "<p>200 rows × 4 columns</p>\n",
       "</div>"
      ],
      "text/plain": [
       "        TV  Radio  Newspaper  Sales\n",
       "0    230.1   37.8       69.2   22.1\n",
       "1     44.5   39.3       45.1   10.4\n",
       "2     17.2   45.9       69.3    9.3\n",
       "3    151.5   41.3       58.5   18.5\n",
       "4    180.8   10.8       58.4   12.9\n",
       "..     ...    ...        ...    ...\n",
       "195   38.2    3.7       13.8    7.6\n",
       "196   94.2    4.9        8.1    9.7\n",
       "197  177.0    9.3        6.4   12.8\n",
       "198  283.6   42.0       66.2   25.5\n",
       "199  232.1    8.6        8.7   13.4\n",
       "\n",
       "[200 rows x 4 columns]"
      ]
     },
     "execution_count": 17,
     "metadata": {},
     "output_type": "execute_result"
    }
   ],
   "source": [
    "# Since Sno is not required to be fed to the model we can drop the column\n",
    "df1=df.drop('SNo',axis=1)\n",
    "df1"
   ]
  },
  {
   "cell_type": "markdown",
   "id": "5085da9a",
   "metadata": {},
   "source": [
    "### Data Cleaning"
   ]
  },
  {
   "cell_type": "code",
   "execution_count": 18,
   "id": "519be810",
   "metadata": {},
   "outputs": [
    {
     "data": {
      "text/html": [
       "<div>\n",
       "<style scoped>\n",
       "    .dataframe tbody tr th:only-of-type {\n",
       "        vertical-align: middle;\n",
       "    }\n",
       "\n",
       "    .dataframe tbody tr th {\n",
       "        vertical-align: top;\n",
       "    }\n",
       "\n",
       "    .dataframe thead th {\n",
       "        text-align: right;\n",
       "    }\n",
       "</style>\n",
       "<table border=\"1\" class=\"dataframe\">\n",
       "  <thead>\n",
       "    <tr style=\"text-align: right;\">\n",
       "      <th></th>\n",
       "      <th>TV</th>\n",
       "      <th>Radio</th>\n",
       "      <th>Newspaper</th>\n",
       "      <th>Sales</th>\n",
       "    </tr>\n",
       "  </thead>\n",
       "  <tbody>\n",
       "    <tr>\n",
       "      <th>0</th>\n",
       "      <td>230.1</td>\n",
       "      <td>37.8</td>\n",
       "      <td>69.2</td>\n",
       "      <td>22.1</td>\n",
       "    </tr>\n",
       "    <tr>\n",
       "      <th>1</th>\n",
       "      <td>44.5</td>\n",
       "      <td>39.3</td>\n",
       "      <td>45.1</td>\n",
       "      <td>10.4</td>\n",
       "    </tr>\n",
       "    <tr>\n",
       "      <th>2</th>\n",
       "      <td>17.2</td>\n",
       "      <td>45.9</td>\n",
       "      <td>69.3</td>\n",
       "      <td>9.3</td>\n",
       "    </tr>\n",
       "    <tr>\n",
       "      <th>3</th>\n",
       "      <td>151.5</td>\n",
       "      <td>41.3</td>\n",
       "      <td>58.5</td>\n",
       "      <td>18.5</td>\n",
       "    </tr>\n",
       "    <tr>\n",
       "      <th>4</th>\n",
       "      <td>180.8</td>\n",
       "      <td>10.8</td>\n",
       "      <td>58.4</td>\n",
       "      <td>12.9</td>\n",
       "    </tr>\n",
       "    <tr>\n",
       "      <th>...</th>\n",
       "      <td>...</td>\n",
       "      <td>...</td>\n",
       "      <td>...</td>\n",
       "      <td>...</td>\n",
       "    </tr>\n",
       "    <tr>\n",
       "      <th>195</th>\n",
       "      <td>38.2</td>\n",
       "      <td>3.7</td>\n",
       "      <td>13.8</td>\n",
       "      <td>7.6</td>\n",
       "    </tr>\n",
       "    <tr>\n",
       "      <th>196</th>\n",
       "      <td>94.2</td>\n",
       "      <td>4.9</td>\n",
       "      <td>8.1</td>\n",
       "      <td>9.7</td>\n",
       "    </tr>\n",
       "    <tr>\n",
       "      <th>197</th>\n",
       "      <td>177.0</td>\n",
       "      <td>9.3</td>\n",
       "      <td>6.4</td>\n",
       "      <td>12.8</td>\n",
       "    </tr>\n",
       "    <tr>\n",
       "      <th>198</th>\n",
       "      <td>283.6</td>\n",
       "      <td>42.0</td>\n",
       "      <td>66.2</td>\n",
       "      <td>25.5</td>\n",
       "    </tr>\n",
       "    <tr>\n",
       "      <th>199</th>\n",
       "      <td>232.1</td>\n",
       "      <td>8.6</td>\n",
       "      <td>8.7</td>\n",
       "      <td>13.4</td>\n",
       "    </tr>\n",
       "  </tbody>\n",
       "</table>\n",
       "<p>198 rows × 4 columns</p>\n",
       "</div>"
      ],
      "text/plain": [
       "        TV  Radio  Newspaper  Sales\n",
       "0    230.1   37.8       69.2   22.1\n",
       "1     44.5   39.3       45.1   10.4\n",
       "2     17.2   45.9       69.3    9.3\n",
       "3    151.5   41.3       58.5   18.5\n",
       "4    180.8   10.8       58.4   12.9\n",
       "..     ...    ...        ...    ...\n",
       "195   38.2    3.7       13.8    7.6\n",
       "196   94.2    4.9        8.1    9.7\n",
       "197  177.0    9.3        6.4   12.8\n",
       "198  283.6   42.0       66.2   25.5\n",
       "199  232.1    8.6        8.7   13.4\n",
       "\n",
       "[198 rows x 4 columns]"
      ]
     },
     "execution_count": 18,
     "metadata": {},
     "output_type": "execute_result"
    }
   ],
   "source": [
    "# Removing outliers\n",
    "df1=df1[(z<3).all(axis=1)]\n",
    "df1"
   ]
  },
  {
   "cell_type": "code",
   "execution_count": 19,
   "id": "9aeddc22",
   "metadata": {},
   "outputs": [
    {
     "data": {
      "text/plain": [
       "1.0"
      ]
     },
     "execution_count": 19,
     "metadata": {},
     "output_type": "execute_result"
    }
   ],
   "source": [
    "# Percentage Data Loss\n",
    "loss_percent=(200-198)/200 * 100\n",
    "loss_percent"
   ]
  },
  {
   "cell_type": "markdown",
   "id": "63548169",
   "metadata": {},
   "source": [
    "Just 1% data is lost after removing skewness."
   ]
  },
  {
   "cell_type": "code",
   "execution_count": 20,
   "id": "fc778488",
   "metadata": {},
   "outputs": [
    {
     "data": {
      "text/plain": [
       "TV          -0.082332\n",
       "Radio        0.114842\n",
       "Newspaper    0.650112\n",
       "Sales        0.407130\n",
       "dtype: float64"
      ]
     },
     "execution_count": 20,
     "metadata": {},
     "output_type": "execute_result"
    }
   ],
   "source": [
    "# Checking skewness after removing outliers\n",
    "df1.skew()"
   ]
  },
  {
   "cell_type": "code",
   "execution_count": 52,
   "id": "76dfef8b",
   "metadata": {},
   "outputs": [],
   "source": [
    "#Removing skewness\n",
    "df2=df1.copy()\n",
    "df2['Newspaper']=np.log(df2['Newspaper'])"
   ]
  },
  {
   "cell_type": "code",
   "execution_count": 53,
   "id": "636475c7",
   "metadata": {},
   "outputs": [
    {
     "data": {
      "text/plain": [
       "TV          -0.082332\n",
       "Radio        0.114842\n",
       "Newspaper   -1.221802\n",
       "Sales        0.407130\n",
       "dtype: float64"
      ]
     },
     "execution_count": 53,
     "metadata": {},
     "output_type": "execute_result"
    }
   ],
   "source": [
    "df2.skew()"
   ]
  },
  {
   "cell_type": "code",
   "execution_count": 54,
   "id": "82e68ef3",
   "metadata": {},
   "outputs": [
    {
     "data": {
      "text/html": [
       "<div>\n",
       "<style scoped>\n",
       "    .dataframe tbody tr th:only-of-type {\n",
       "        vertical-align: middle;\n",
       "    }\n",
       "\n",
       "    .dataframe tbody tr th {\n",
       "        vertical-align: top;\n",
       "    }\n",
       "\n",
       "    .dataframe thead th {\n",
       "        text-align: right;\n",
       "    }\n",
       "</style>\n",
       "<table border=\"1\" class=\"dataframe\">\n",
       "  <thead>\n",
       "    <tr style=\"text-align: right;\">\n",
       "      <th></th>\n",
       "      <th>TV</th>\n",
       "      <th>Radio</th>\n",
       "      <th>Newspaper</th>\n",
       "      <th>Sales</th>\n",
       "    </tr>\n",
       "  </thead>\n",
       "  <tbody>\n",
       "    <tr>\n",
       "      <th>0</th>\n",
       "      <td>0.955983</td>\n",
       "      <td>0.969110</td>\n",
       "      <td>1.523264</td>\n",
       "      <td>1.476664</td>\n",
       "    </tr>\n",
       "    <tr>\n",
       "      <th>1</th>\n",
       "      <td>-1.192003</td>\n",
       "      <td>1.046234</td>\n",
       "      <td>0.840679</td>\n",
       "      <td>-0.645180</td>\n",
       "    </tr>\n",
       "    <tr>\n",
       "      <th>2</th>\n",
       "      <td>-1.646125</td>\n",
       "      <td>1.372968</td>\n",
       "      <td>1.525697</td>\n",
       "      <td>-0.889458</td>\n",
       "    </tr>\n",
       "    <tr>\n",
       "      <th>3</th>\n",
       "      <td>0.142934</td>\n",
       "      <td>1.147332</td>\n",
       "      <td>1.246318</td>\n",
       "      <td>0.892431</td>\n",
       "    </tr>\n",
       "    <tr>\n",
       "      <th>4</th>\n",
       "      <td>0.456452</td>\n",
       "      <td>-0.735026</td>\n",
       "      <td>1.243558</td>\n",
       "      <td>-0.127879</td>\n",
       "    </tr>\n",
       "    <tr>\n",
       "      <th>...</th>\n",
       "      <td>...</td>\n",
       "      <td>...</td>\n",
       "      <td>...</td>\n",
       "      <td>...</td>\n",
       "    </tr>\n",
       "    <tr>\n",
       "      <th>193</th>\n",
       "      <td>-1.288311</td>\n",
       "      <td>-1.423941</td>\n",
       "      <td>-0.661093</td>\n",
       "      <td>-1.292322</td>\n",
       "    </tr>\n",
       "    <tr>\n",
       "      <th>194</th>\n",
       "      <td>-0.521579</td>\n",
       "      <td>-1.287689</td>\n",
       "      <td>-1.161438</td>\n",
       "      <td>-0.799286</td>\n",
       "    </tr>\n",
       "    <tr>\n",
       "      <th>195</th>\n",
       "      <td>0.416577</td>\n",
       "      <td>-0.862474</td>\n",
       "      <td>-1.349915</td>\n",
       "      <td>-0.147694</td>\n",
       "    </tr>\n",
       "    <tr>\n",
       "      <th>196</th>\n",
       "      <td>1.467535</td>\n",
       "      <td>1.182269</td>\n",
       "      <td>1.449037</td>\n",
       "      <td>1.990554</td>\n",
       "    </tr>\n",
       "    <tr>\n",
       "      <th>197</th>\n",
       "      <td>0.975625</td>\n",
       "      <td>-0.924437</td>\n",
       "      <td>-1.100356</td>\n",
       "      <td>-0.029786</td>\n",
       "    </tr>\n",
       "  </tbody>\n",
       "</table>\n",
       "<p>198 rows × 4 columns</p>\n",
       "</div>"
      ],
      "text/plain": [
       "           TV     Radio  Newspaper     Sales\n",
       "0    0.955983  0.969110   1.523264  1.476664\n",
       "1   -1.192003  1.046234   0.840679 -0.645180\n",
       "2   -1.646125  1.372968   1.525697 -0.889458\n",
       "3    0.142934  1.147332   1.246318  0.892431\n",
       "4    0.456452 -0.735026   1.243558 -0.127879\n",
       "..        ...       ...        ...       ...\n",
       "193 -1.288311 -1.423941  -0.661093 -1.292322\n",
       "194 -0.521579 -1.287689  -1.161438 -0.799286\n",
       "195  0.416577 -0.862474  -1.349915 -0.147694\n",
       "196  1.467535  1.182269   1.449037  1.990554\n",
       "197  0.975625 -0.924437  -1.100356 -0.029786\n",
       "\n",
       "[198 rows x 4 columns]"
      ]
     },
     "execution_count": 54,
     "metadata": {},
     "output_type": "execute_result"
    }
   ],
   "source": [
    "from sklearn.preprocessing import PowerTransformer\n",
    "pt=PowerTransformer(method='yeo-johnson') \n",
    "power=pt.fit_transform(df2)\n",
    "df2=pd.DataFrame(power,columns=df2.columns)\n",
    "df2"
   ]
  },
  {
   "cell_type": "code",
   "execution_count": 55,
   "id": "fb7389cd",
   "metadata": {},
   "outputs": [
    {
     "data": {
      "text/plain": [
       "TV          -0.320682\n",
       "Radio       -0.236668\n",
       "Newspaper   -0.258348\n",
       "Sales       -0.007573\n",
       "dtype: float64"
      ]
     },
     "execution_count": 55,
     "metadata": {},
     "output_type": "execute_result"
    }
   ],
   "source": [
    "df2.skew()"
   ]
  },
  {
   "cell_type": "markdown",
   "id": "62d6834e",
   "metadata": {},
   "source": [
    " Skewness is removed from the columns. +/-0.5 is the acceptable range of skewness."
   ]
  },
  {
   "cell_type": "markdown",
   "id": "49910f21",
   "metadata": {},
   "source": [
    "### Separating the columns into x and y"
   ]
  },
  {
   "cell_type": "code",
   "execution_count": 56,
   "id": "f7346b29",
   "metadata": {},
   "outputs": [
    {
     "data": {
      "text/html": [
       "<div>\n",
       "<style scoped>\n",
       "    .dataframe tbody tr th:only-of-type {\n",
       "        vertical-align: middle;\n",
       "    }\n",
       "\n",
       "    .dataframe tbody tr th {\n",
       "        vertical-align: top;\n",
       "    }\n",
       "\n",
       "    .dataframe thead th {\n",
       "        text-align: right;\n",
       "    }\n",
       "</style>\n",
       "<table border=\"1\" class=\"dataframe\">\n",
       "  <thead>\n",
       "    <tr style=\"text-align: right;\">\n",
       "      <th></th>\n",
       "      <th>TV</th>\n",
       "      <th>Radio</th>\n",
       "      <th>Newspaper</th>\n",
       "    </tr>\n",
       "  </thead>\n",
       "  <tbody>\n",
       "    <tr>\n",
       "      <th>0</th>\n",
       "      <td>0.955983</td>\n",
       "      <td>0.969110</td>\n",
       "      <td>1.523264</td>\n",
       "    </tr>\n",
       "    <tr>\n",
       "      <th>1</th>\n",
       "      <td>-1.192003</td>\n",
       "      <td>1.046234</td>\n",
       "      <td>0.840679</td>\n",
       "    </tr>\n",
       "    <tr>\n",
       "      <th>2</th>\n",
       "      <td>-1.646125</td>\n",
       "      <td>1.372968</td>\n",
       "      <td>1.525697</td>\n",
       "    </tr>\n",
       "    <tr>\n",
       "      <th>3</th>\n",
       "      <td>0.142934</td>\n",
       "      <td>1.147332</td>\n",
       "      <td>1.246318</td>\n",
       "    </tr>\n",
       "    <tr>\n",
       "      <th>4</th>\n",
       "      <td>0.456452</td>\n",
       "      <td>-0.735026</td>\n",
       "      <td>1.243558</td>\n",
       "    </tr>\n",
       "    <tr>\n",
       "      <th>...</th>\n",
       "      <td>...</td>\n",
       "      <td>...</td>\n",
       "      <td>...</td>\n",
       "    </tr>\n",
       "    <tr>\n",
       "      <th>193</th>\n",
       "      <td>-1.288311</td>\n",
       "      <td>-1.423941</td>\n",
       "      <td>-0.661093</td>\n",
       "    </tr>\n",
       "    <tr>\n",
       "      <th>194</th>\n",
       "      <td>-0.521579</td>\n",
       "      <td>-1.287689</td>\n",
       "      <td>-1.161438</td>\n",
       "    </tr>\n",
       "    <tr>\n",
       "      <th>195</th>\n",
       "      <td>0.416577</td>\n",
       "      <td>-0.862474</td>\n",
       "      <td>-1.349915</td>\n",
       "    </tr>\n",
       "    <tr>\n",
       "      <th>196</th>\n",
       "      <td>1.467535</td>\n",
       "      <td>1.182269</td>\n",
       "      <td>1.449037</td>\n",
       "    </tr>\n",
       "    <tr>\n",
       "      <th>197</th>\n",
       "      <td>0.975625</td>\n",
       "      <td>-0.924437</td>\n",
       "      <td>-1.100356</td>\n",
       "    </tr>\n",
       "  </tbody>\n",
       "</table>\n",
       "<p>198 rows × 3 columns</p>\n",
       "</div>"
      ],
      "text/plain": [
       "           TV     Radio  Newspaper\n",
       "0    0.955983  0.969110   1.523264\n",
       "1   -1.192003  1.046234   0.840679\n",
       "2   -1.646125  1.372968   1.525697\n",
       "3    0.142934  1.147332   1.246318\n",
       "4    0.456452 -0.735026   1.243558\n",
       "..        ...       ...        ...\n",
       "193 -1.288311 -1.423941  -0.661093\n",
       "194 -0.521579 -1.287689  -1.161438\n",
       "195  0.416577 -0.862474  -1.349915\n",
       "196  1.467535  1.182269   1.449037\n",
       "197  0.975625 -0.924437  -1.100356\n",
       "\n",
       "[198 rows x 3 columns]"
      ]
     },
     "execution_count": 56,
     "metadata": {},
     "output_type": "execute_result"
    }
   ],
   "source": [
    "x=df2.iloc[:,:3]\n",
    "x"
   ]
  },
  {
   "cell_type": "code",
   "execution_count": 57,
   "id": "b6a308ca",
   "metadata": {},
   "outputs": [
    {
     "data": {
      "text/plain": [
       "0      1.476664\n",
       "1     -0.645180\n",
       "2     -0.889458\n",
       "3      0.892431\n",
       "4     -0.127879\n",
       "         ...   \n",
       "193   -1.292322\n",
       "194   -0.799286\n",
       "195   -0.147694\n",
       "196    1.990554\n",
       "197   -0.029786\n",
       "Name: Sales, Length: 198, dtype: float64"
      ]
     },
     "execution_count": 57,
     "metadata": {},
     "output_type": "execute_result"
    }
   ],
   "source": [
    "y=df2.iloc[:,-1]\n",
    "y"
   ]
  },
  {
   "cell_type": "code",
   "execution_count": 58,
   "id": "0fecb793",
   "metadata": {},
   "outputs": [
    {
     "data": {
      "text/plain": [
       "TV           0\n",
       "Radio        0\n",
       "Newspaper    0\n",
       "Sales        0\n",
       "dtype: int64"
      ]
     },
     "execution_count": 58,
     "metadata": {},
     "output_type": "execute_result"
    }
   ],
   "source": [
    "df2.isnull().sum()"
   ]
  },
  {
   "cell_type": "markdown",
   "id": "4186f303",
   "metadata": {},
   "source": [
    "### Multicollinearity with VIF"
   ]
  },
  {
   "cell_type": "code",
   "execution_count": 59,
   "id": "de9fd771",
   "metadata": {},
   "outputs": [],
   "source": [
    "import statsmodels.api as sm\n",
    "from scipy import stats\n",
    "from statsmodels.stats.outliers_influence import variance_inflation_factor"
   ]
  },
  {
   "cell_type": "code",
   "execution_count": 60,
   "id": "12b7d7c9",
   "metadata": {},
   "outputs": [
    {
     "data": {
      "text/html": [
       "<div>\n",
       "<style scoped>\n",
       "    .dataframe tbody tr th:only-of-type {\n",
       "        vertical-align: middle;\n",
       "    }\n",
       "\n",
       "    .dataframe tbody tr th {\n",
       "        vertical-align: top;\n",
       "    }\n",
       "\n",
       "    .dataframe thead th {\n",
       "        text-align: right;\n",
       "    }\n",
       "</style>\n",
       "<table border=\"1\" class=\"dataframe\">\n",
       "  <thead>\n",
       "    <tr style=\"text-align: right;\">\n",
       "      <th></th>\n",
       "      <th>Variables</th>\n",
       "      <th>VIF Factors</th>\n",
       "    </tr>\n",
       "  </thead>\n",
       "  <tbody>\n",
       "    <tr>\n",
       "      <th>0</th>\n",
       "      <td>TV</td>\n",
       "      <td>1.002623</td>\n",
       "    </tr>\n",
       "    <tr>\n",
       "      <th>1</th>\n",
       "      <td>Radio</td>\n",
       "      <td>1.080260</td>\n",
       "    </tr>\n",
       "    <tr>\n",
       "      <th>2</th>\n",
       "      <td>Newspaper</td>\n",
       "      <td>1.079351</td>\n",
       "    </tr>\n",
       "  </tbody>\n",
       "</table>\n",
       "</div>"
      ],
      "text/plain": [
       "   Variables  VIF Factors\n",
       "0         TV     1.002623\n",
       "1      Radio     1.080260\n",
       "2  Newspaper     1.079351"
      ]
     },
     "execution_count": 60,
     "metadata": {},
     "output_type": "execute_result"
    }
   ],
   "source": [
    "def calc_vif(x) :\n",
    "    vif=pd.DataFrame()\n",
    "    vif['Variables'] = x.columns\n",
    "    vif['VIF Factors']=[variance_inflation_factor(x.values,i) for i in range(x.shape[1])]\n",
    "    return vif\n",
    "\n",
    "calc_vif(x)"
   ]
  },
  {
   "cell_type": "markdown",
   "id": "7578b7f7",
   "metadata": {},
   "source": [
    "There is no multicollinearity present."
   ]
  },
  {
   "cell_type": "markdown",
   "id": "097c8af9",
   "metadata": {},
   "source": [
    "### Scaling : Standard Scaler / Min-Max Scaler"
   ]
  },
  {
   "cell_type": "code",
   "execution_count": 61,
   "id": "640702bf",
   "metadata": {},
   "outputs": [],
   "source": [
    "from sklearn.preprocessing import StandardScaler\n",
    "sc=StandardScaler()\n",
    "x1=sc.fit_transform(x)"
   ]
  },
  {
   "cell_type": "markdown",
   "id": "dd4e97f9",
   "metadata": {},
   "source": [
    "Independent variables are scaled/standardized."
   ]
  },
  {
   "cell_type": "markdown",
   "id": "cfeed06e",
   "metadata": {},
   "source": [
    "### Find best randon state for Train-Test Split"
   ]
  },
  {
   "cell_type": "code",
   "execution_count": 62,
   "id": "d5dedca7",
   "metadata": {},
   "outputs": [],
   "source": [
    "#Importing required libraries\n",
    "from sklearn.model_selection import train_test_split\n",
    "from sklearn.linear_model import LinearRegression\n",
    "from sklearn.metrics import r2_score"
   ]
  },
  {
   "cell_type": "code",
   "execution_count": 79,
   "id": "016f20cb",
   "metadata": {},
   "outputs": [
    {
     "name": "stdout",
     "output_type": "stream",
     "text": [
      "Best random state :  42  Accuracy(Training) :  90.55541784901132  Accuracy(Testing) :  90.7173945850805\n",
      "Best random state :  46  Accuracy(Training) :  90.55138118226938  Accuracy(Testing) :  90.77789844139616\n",
      "Best random state :  63  Accuracy(Training) :  90.50457130521235  Accuracy(Testing) :  90.9551187692\n",
      "Final Best random state :  24  Accuracy(Training) :  0.8960389149396634  Accuracy(Testing) :  0.9564165748016528\n"
     ]
    }
   ],
   "source": [
    "#Finding out the best random state\n",
    "\n",
    "maxAcc=0\n",
    "rs=0\n",
    "for i in range(0,100) :\n",
    "    x_train,x_test,y_train,y_test=train_test_split(x1,y,test_size=0.2,random_state=i)\n",
    "    \n",
    "    lr=LinearRegression()\n",
    "    lr.fit(x_train,y_train)\n",
    "    predtrain=lr.predict(x_train)\n",
    "    predtest=lr.predict(x_test)\n",
    "    acctrain=r2_score(y_train,predtrain)\n",
    "    acctest=r2_score(y_test,predtest)\n",
    "    if round(acctrain,2)==round(acctest,2) :\n",
    "        print('Best random state : ',i,' Accuracy(Training) : ',acctrain*100,' Accuracy(Testing) : ',acctest*100)\n",
    "        \n",
    "    if acctest>maxAcc :\n",
    "        maxAcc=acctest\n",
    "        rs=i      \n",
    "print('Final Best random state : ',rs,' Accuracy(Training) : ',acctrain,' Accuracy(Testing) : ',maxAcc)"
   ]
  },
  {
   "cell_type": "markdown",
   "id": "2b9611ec",
   "metadata": {},
   "source": [
    "Here, training & testing accuracies are almost same for all random states selected. So, lets take 46 as our best random state."
   ]
  },
  {
   "cell_type": "code",
   "execution_count": 80,
   "id": "5072a452",
   "metadata": {},
   "outputs": [
    {
     "name": "stdout",
     "output_type": "stream",
     "text": [
      "(158, 3)\n",
      "(40, 3)\n",
      "(158,)\n",
      "(40,)\n"
     ]
    }
   ],
   "source": [
    "# train-test split with best randon state and finding the train and test set shape after splittng\n",
    "x_train,x_test,y_train,y_test=train_test_split(x1,y,test_size=0.2,random_state=46)\n",
    "print(x_train.shape)\n",
    "print(x_test.shape)\n",
    "print(y_train.shape)\n",
    "print(y_test.shape)"
   ]
  },
  {
   "cell_type": "markdown",
   "id": "49639a18",
   "metadata": {},
   "source": [
    "### Finding the best algorithm"
   ]
  },
  {
   "cell_type": "code",
   "execution_count": 81,
   "id": "de760aa4",
   "metadata": {},
   "outputs": [],
   "source": [
    "#Importing required libraries\n",
    "from sklearn.linear_model import LinearRegression\n",
    "from sklearn.neighbors import KNeighborsRegressor\n",
    "from sklearn.svm import SVR\n",
    "from sklearn.ensemble import RandomForestRegressor\n",
    "from sklearn.metrics import r2_score, mean_squared_error, mean_absolute_error"
   ]
  },
  {
   "cell_type": "code",
   "execution_count": 82,
   "id": "558c200c",
   "metadata": {},
   "outputs": [],
   "source": [
    "# Making instance of regressors\n",
    "lr=LinearRegression()\n",
    "knn=KNeighborsRegressor()\n",
    "svr=SVR()\n",
    "rf=RandomForestRegressor()"
   ]
  },
  {
   "cell_type": "code",
   "execution_count": 83,
   "id": "b311b38d",
   "metadata": {},
   "outputs": [
    {
     "name": "stdout",
     "output_type": "stream",
     "text": [
      "LinearRegression()\n",
      "Accuracy(Training) :  90.55138118226938  Accuracy(Test)  90.77789844139616\n",
      "mean_absolute_error 0.23960577179525616\n",
      "mean_squared_error 0.09119131479490356\n",
      "\n",
      "\n",
      "KNeighborsRegressor()\n",
      "Accuracy(Training) :  94.58990583277001  Accuracy(Test)  88.43745987353803\n",
      "mean_absolute_error 0.19927356269061688\n",
      "mean_squared_error 0.1143343770181302\n",
      "\n",
      "\n",
      "SVR(kernel='linear')\n",
      "Accuracy(Training) :  90.1215075694328  Accuracy(Test)  90.52156896823773\n",
      "mean_absolute_error 0.23460845238961842\n",
      "mean_squared_error 0.09372598886344\n",
      "\n",
      "\n",
      "RandomForestRegressor()\n",
      "Accuracy(Training) :  99.4835239501212  Accuracy(Test)  97.17684191896241\n",
      "mean_absolute_error 0.13275238752953364\n",
      "mean_squared_error 0.02791635893919293\n",
      "\n",
      "\n"
     ]
    }
   ],
   "source": [
    "#Executing all algorithms in a single for loop\n",
    "\n",
    "algo_list=[lr,knn,svr,rf]\n",
    "svr_kernel=['rbf','poly','linear']\n",
    "Acc=0\n",
    "kv=''\n",
    "for i in algo_list :    \n",
    "    if i==svr :\n",
    "        for j in svr_kernel :\n",
    "            svr=SVR(kernel=j)\n",
    "            svr.fit(x_train,y_train)\n",
    "            pred=svr.predict(x_test)\n",
    "            acc=r2_score(y_test,pred)\n",
    "            if acc>Acc :\n",
    "                Acc=acc\n",
    "                kv=j\n",
    "        svr1=SVR(kernel=j)\n",
    "        print(svr1)\n",
    "        svr1.fit(x_train,y_train)\n",
    "        predtrain=svr1.predict(x_train)\n",
    "        predtest=svr1.predict(x_test)\n",
    "        acctrain=r2_score(y_train,predtrain)\n",
    "        acctest=r2_score(y_test,predtest)\n",
    "        err1=mean_absolute_error(y_test,predtest)\n",
    "        err2=mean_squared_error(y_test,predtest)\n",
    "    \n",
    "    else :\n",
    "        print(i)\n",
    "        i.fit(x_train,y_train)\n",
    "        predtrain=i.predict(x_train)\n",
    "        predtest=i.predict(x_test)\n",
    "        acctrain=r2_score(y_train,predtrain)\n",
    "        acctest=r2_score(y_test,predtest)\n",
    "        err1=mean_absolute_error(y_test,predtest)\n",
    "        err2=mean_squared_error(y_test,predtest)\n",
    "    \n",
    "    print('Accuracy(Training) : ',acctrain*100,' Accuracy(Test) ',acctest*100)\n",
    "    print('mean_absolute_error',mean_absolute_error(y_test,predtest))\n",
    "    print('mean_squared_error',mean_squared_error(y_test,predtest))\n",
    "    print('\\n')"
   ]
  },
  {
   "cell_type": "markdown",
   "id": "6aa2eef3",
   "metadata": {},
   "source": [
    "RandomForestRegressor() has the highest accuracy and least error."
   ]
  },
  {
   "cell_type": "markdown",
   "id": "88ab76ae",
   "metadata": {},
   "source": [
    "### Cross Validation"
   ]
  },
  {
   "cell_type": "code",
   "execution_count": 84,
   "id": "8e5e2e16",
   "metadata": {},
   "outputs": [
    {
     "name": "stdout",
     "output_type": "stream",
     "text": [
      "CV mean of  LinearRegression()  is  0.8986531934898426\n",
      "CV mean of  KNeighborsRegressor()  is  0.924535410998541\n",
      "CV mean of  SVR()  is  0.9566503059828377\n",
      "CV mean of  RandomForestRegressor()  is  0.9683335033032767\n"
     ]
    }
   ],
   "source": [
    "# Computing cross validation score of all the models used\n",
    "from sklearn.model_selection import cross_val_score\n",
    "\n",
    "for i in algo_list :\n",
    "    print('CV mean of ',i,' is ',cross_val_score(i,x1,y,cv=5).mean())"
   ]
  },
  {
   "cell_type": "raw",
   "id": "50a6f24e",
   "metadata": {},
   "source": [
    "# Finding out the difference of Accuracy and Cross validation mean of all the models used\n",
    "   Accuracy CVmean Diff\n",
    "LR   90        89    1\n",
    "KNN  88        92    4\n",
    "SVR  90        95    5\n",
    "RF   97        96    1"
   ]
  },
  {
   "cell_type": "markdown",
   "id": "d7ae1d11",
   "metadata": {},
   "source": [
    "RandomForestRegressor() has the least difference in accuracy and Cross validation mean. So, lets select RandomForestRegressor() as the best algorithm."
   ]
  },
  {
   "cell_type": "markdown",
   "id": "31f5f105",
   "metadata": {},
   "source": [
    "### Hyperparameter Tuning"
   ]
  },
  {
   "cell_type": "code",
   "execution_count": 85,
   "id": "07998a90",
   "metadata": {},
   "outputs": [
    {
     "data": {
      "text/plain": [
       "{'criterion': 'mae',\n",
       " 'max_depth': 10,\n",
       " 'max_features': 'auto',\n",
       " 'n_estimators': 9}"
      ]
     },
     "execution_count": 85,
     "metadata": {},
     "output_type": "execute_result"
    }
   ],
   "source": [
    "from sklearn.model_selection import GridSearchCV\n",
    "\n",
    "parameters = {'criterion':['mse', 'mae','poisson'],\n",
    "              'max_features':['auto', 'sqrt', 'log2'],\n",
    "              'max_depth': [5, 10, None],\n",
    "              'n_estimators': [5, 6, 7, 8, 9, 10, 11, 12, 13, 15]}\n",
    "\n",
    "rf=RandomForestRegressor()\n",
    "GCV=GridSearchCV(rf,parameters,cv=5)\n",
    "GCV.fit(x_train,y_train)\n",
    "GCV.best_params_"
   ]
  },
  {
   "cell_type": "markdown",
   "id": "5ca8ecf3",
   "metadata": {},
   "source": [
    "Using hyper parameter tuning on selected model for better accuracy and to avoid overfitting issues."
   ]
  },
  {
   "cell_type": "code",
   "execution_count": 87,
   "id": "17580486",
   "metadata": {},
   "outputs": [
    {
     "name": "stdout",
     "output_type": "stream",
     "text": [
      "R2_score :  0.9549337573459835  CV mean :  0.9659053612813404\n"
     ]
    }
   ],
   "source": [
    "rf=RandomForestRegressor(criterion='mae', max_features='auto', max_depth=None, n_estimators=10)\n",
    "rf.fit(x_train,y_train)\n",
    "pred=rf.predict(x_test)\n",
    "acc=r2_score(y_test,pred)\n",
    "cv=cross_val_score(rf,x1,y,cv=5).mean()\n",
    "\n",
    "print('R2_score : ',acc,' CV mean : ',cv)"
   ]
  },
  {
   "cell_type": "markdown",
   "id": "515b68f2",
   "metadata": {},
   "source": [
    "Executed the selected model with hyper tuned parameters for better accuracy."
   ]
  },
  {
   "cell_type": "markdown",
   "id": "5f013b87",
   "metadata": {},
   "source": [
    "We are getting model accuracy as 98% which shows our model is performing good."
   ]
  },
  {
   "cell_type": "markdown",
   "id": "bb134d11",
   "metadata": {},
   "source": [
    "### AUC-ROC Curve"
   ]
  },
  {
   "cell_type": "markdown",
   "id": "0bfe240e",
   "metadata": {},
   "source": [
    "For random forest ROC AUC is not available, because there is no cut-off value for this algorithm, and ROC AUC is only calculable in the case if the algorithm returns a continuous probability value (and only 1 value) for an unseen element."
   ]
  },
  {
   "cell_type": "markdown",
   "id": "04324105",
   "metadata": {},
   "source": [
    "### Saving the model"
   ]
  },
  {
   "cell_type": "code",
   "execution_count": 88,
   "id": "9b5cc200",
   "metadata": {},
   "outputs": [],
   "source": [
    "# Saved the model in .pkl file\n",
    "import pickle\n",
    "file='Advertising.pkl'\n",
    "pickle.dump(rf,open(file,'wb'))"
   ]
  },
  {
   "cell_type": "markdown",
   "id": "b45d9146",
   "metadata": {},
   "source": [
    "### Conclusion"
   ]
  },
  {
   "cell_type": "code",
   "execution_count": 89,
   "id": "a18a3e08",
   "metadata": {},
   "outputs": [
    {
     "data": {
      "text/plain": [
       "0.9549337573459835"
      ]
     },
     "execution_count": 89,
     "metadata": {},
     "output_type": "execute_result"
    }
   ],
   "source": [
    "# Loading the model for checking score on actual and predicted test sets\n",
    "load_model=pickle.load(open(file,'rb'))\n",
    "result=load_model.score(x_test,y_test)\n",
    "result"
   ]
  },
  {
   "cell_type": "code",
   "execution_count": 90,
   "id": "c6c7960b",
   "metadata": {},
   "outputs": [
    {
     "name": "stdout",
     "output_type": "stream",
     "text": [
      "(40, 3)\n",
      "(40,)\n"
     ]
    }
   ],
   "source": [
    "#Printing the shapes of test sets to make comparison dataframe\n",
    "print(x_test.shape)\n",
    "print(y_test.shape)"
   ]
  },
  {
   "cell_type": "code",
   "execution_count": 91,
   "id": "70d08f15",
   "metadata": {},
   "outputs": [
    {
     "data": {
      "text/html": [
       "<div>\n",
       "<style scoped>\n",
       "    .dataframe tbody tr th:only-of-type {\n",
       "        vertical-align: middle;\n",
       "    }\n",
       "\n",
       "    .dataframe tbody tr th {\n",
       "        vertical-align: top;\n",
       "    }\n",
       "\n",
       "    .dataframe thead th {\n",
       "        text-align: right;\n",
       "    }\n",
       "</style>\n",
       "<table border=\"1\" class=\"dataframe\">\n",
       "  <thead>\n",
       "    <tr style=\"text-align: right;\">\n",
       "      <th></th>\n",
       "      <th>Orignal</th>\n",
       "      <th>Predicted</th>\n",
       "    </tr>\n",
       "  </thead>\n",
       "  <tbody>\n",
       "    <tr>\n",
       "      <th>20</th>\n",
       "      <td>-0.127879</td>\n",
       "      <td>-0.142430</td>\n",
       "    </tr>\n",
       "    <tr>\n",
       "      <th>21</th>\n",
       "      <td>-0.370242</td>\n",
       "      <td>-0.397636</td>\n",
       "    </tr>\n",
       "    <tr>\n",
       "      <th>22</th>\n",
       "      <td>1.042898</td>\n",
       "      <td>0.976819</td>\n",
       "    </tr>\n",
       "    <tr>\n",
       "      <th>23</th>\n",
       "      <td>0.085855</td>\n",
       "      <td>-0.084566</td>\n",
       "    </tr>\n",
       "    <tr>\n",
       "      <th>24</th>\n",
       "      <td>-0.516565</td>\n",
       "      <td>-0.460911</td>\n",
       "    </tr>\n",
       "    <tr>\n",
       "      <th>25</th>\n",
       "      <td>-1.027835</td>\n",
       "      <td>-1.371868</td>\n",
       "    </tr>\n",
       "    <tr>\n",
       "      <th>26</th>\n",
       "      <td>0.438521</td>\n",
       "      <td>0.312237</td>\n",
       "    </tr>\n",
       "    <tr>\n",
       "      <th>27</th>\n",
       "      <td>-1.392372</td>\n",
       "      <td>-1.428507</td>\n",
       "    </tr>\n",
       "    <tr>\n",
       "      <th>28</th>\n",
       "      <td>-0.329130</td>\n",
       "      <td>-0.233372</td>\n",
       "    </tr>\n",
       "    <tr>\n",
       "      <th>29</th>\n",
       "      <td>1.334836</td>\n",
       "      <td>1.395824</td>\n",
       "    </tr>\n",
       "    <tr>\n",
       "      <th>30</th>\n",
       "      <td>-0.308686</td>\n",
       "      <td>-0.327938</td>\n",
       "    </tr>\n",
       "    <tr>\n",
       "      <th>31</th>\n",
       "      <td>0.686680</td>\n",
       "      <td>0.492032</td>\n",
       "    </tr>\n",
       "    <tr>\n",
       "      <th>32</th>\n",
       "      <td>-2.559091</td>\n",
       "      <td>-2.222477</td>\n",
       "    </tr>\n",
       "    <tr>\n",
       "      <th>33</th>\n",
       "      <td>-0.268015</td>\n",
       "      <td>-0.244293</td>\n",
       "    </tr>\n",
       "    <tr>\n",
       "      <th>34</th>\n",
       "      <td>-0.227630</td>\n",
       "      <td>-0.307701</td>\n",
       "    </tr>\n",
       "    <tr>\n",
       "      <th>35</th>\n",
       "      <td>1.009732</td>\n",
       "      <td>0.742822</td>\n",
       "    </tr>\n",
       "    <tr>\n",
       "      <th>36</th>\n",
       "      <td>-1.074841</td>\n",
       "      <td>-1.449488</td>\n",
       "    </tr>\n",
       "    <tr>\n",
       "      <th>37</th>\n",
       "      <td>0.959696</td>\n",
       "      <td>1.110945</td>\n",
       "    </tr>\n",
       "    <tr>\n",
       "      <th>38</th>\n",
       "      <td>-1.051281</td>\n",
       "      <td>-0.768839</td>\n",
       "    </tr>\n",
       "    <tr>\n",
       "      <th>39</th>\n",
       "      <td>0.365876</td>\n",
       "      <td>0.258864</td>\n",
       "    </tr>\n",
       "  </tbody>\n",
       "</table>\n",
       "</div>"
      ],
      "text/plain": [
       "     Orignal  Predicted\n",
       "20 -0.127879  -0.142430\n",
       "21 -0.370242  -0.397636\n",
       "22  1.042898   0.976819\n",
       "23  0.085855  -0.084566\n",
       "24 -0.516565  -0.460911\n",
       "25 -1.027835  -1.371868\n",
       "26  0.438521   0.312237\n",
       "27 -1.392372  -1.428507\n",
       "28 -0.329130  -0.233372\n",
       "29  1.334836   1.395824\n",
       "30 -0.308686  -0.327938\n",
       "31  0.686680   0.492032\n",
       "32 -2.559091  -2.222477\n",
       "33 -0.268015  -0.244293\n",
       "34 -0.227630  -0.307701\n",
       "35  1.009732   0.742822\n",
       "36 -1.074841  -1.449488\n",
       "37  0.959696   1.110945\n",
       "38 -1.051281  -0.768839\n",
       "39  0.365876   0.258864"
      ]
     },
     "execution_count": 91,
     "metadata": {},
     "output_type": "execute_result"
    }
   ],
   "source": [
    "# Comparison dataframe having Original and Predicted values\n",
    "actual=np.array(y_test)\n",
    "predicted=np.array(rf.predict(x_test))\n",
    "conclusion=pd.DataFrame({'Orignal':actual,'Predicted':predicted})\n",
    "conclusion[20:50]"
   ]
  },
  {
   "cell_type": "code",
   "execution_count": null,
   "id": "601a4758",
   "metadata": {},
   "outputs": [],
   "source": []
  },
  {
   "cell_type": "code",
   "execution_count": null,
   "id": "f97ac5f7",
   "metadata": {},
   "outputs": [],
   "source": []
  }
 ],
 "metadata": {
  "kernelspec": {
   "display_name": "Python 3",
   "language": "python",
   "name": "python3"
  },
  "language_info": {
   "codemirror_mode": {
    "name": "ipython",
    "version": 3
   },
   "file_extension": ".py",
   "mimetype": "text/x-python",
   "name": "python",
   "nbconvert_exporter": "python",
   "pygments_lexer": "ipython3",
   "version": "3.8.8"
  }
 },
 "nbformat": 4,
 "nbformat_minor": 5
}
